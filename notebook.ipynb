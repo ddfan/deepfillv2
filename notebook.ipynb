{
  "nbformat": 4,
  "nbformat_minor": 0,
  "metadata": {
    "kernelspec": {
      "display_name": "Python 3",
      "language": "python",
      "name": "python3"
    },
    "language_info": {
      "codemirror_mode": {
        "name": "ipython",
        "version": 3
      },
      "file_extension": ".py",
      "mimetype": "text/x-python",
      "name": "python",
      "nbconvert_exporter": "python",
      "pygments_lexer": "ipython3",
      "version": "3.6.9"
    },
    "colab": {
      "name": "notebook.ipynb",
      "provenance": []
    },
    "accelerator": "GPU"
  },
  "cells": [
    {
      "cell_type": "code",
      "metadata": {
        "colab": {
          "base_uri": "https://localhost:8080/"
        },
        "id": "tuc27bFO15L0",
        "outputId": "639ab724-0fa7-453b-8f82-d11a2457dcb1"
      },
      "source": [
        "from google.colab import drive\n",
        "drive.mount(\"/content/gdrive\")"
      ],
      "execution_count": null,
      "outputs": [
        {
          "output_type": "stream",
          "text": [
            "Mounted at /content/gdrive\n"
          ],
          "name": "stdout"
        }
      ]
    },
    {
      "cell_type": "code",
      "metadata": {
        "colab": {
          "base_uri": "https://localhost:8080/"
        },
        "id": "qJ7JqSFw15L3",
        "outputId": "8ff3f35f-4402-402a-fd92-fe905ec384c8"
      },
      "source": [
        "# %cd /content/gdrive/MyDrive/\n",
        "# !git clone https://<username>:<password>@github.com/ddfan/deepfillv2.git\n",
        "!git pull"
      ],
      "execution_count": 38,
      "outputs": [
        {
          "output_type": "stream",
          "text": [
            "remote: Enumerating objects: 12, done.\u001b[K\n",
            "remote: Counting objects:   8% (1/12)\u001b[K\rremote: Counting objects:  16% (2/12)\u001b[K\rremote: Counting objects:  25% (3/12)\u001b[K\rremote: Counting objects:  33% (4/12)\u001b[K\rremote: Counting objects:  41% (5/12)\u001b[K\rremote: Counting objects:  50% (6/12)\u001b[K\rremote: Counting objects:  58% (7/12)\u001b[K\rremote: Counting objects:  66% (8/12)\u001b[K\rremote: Counting objects:  75% (9/12)\u001b[K\rremote: Counting objects:  83% (10/12)\u001b[K\rremote: Counting objects:  91% (11/12)\u001b[K\rremote: Counting objects: 100% (12/12)\u001b[K\rremote: Counting objects: 100% (12/12), done.\u001b[K\n",
            "remote: Compressing objects:  25% (1/4)\u001b[K\rremote: Compressing objects:  50% (2/4)\u001b[K\rremote: Compressing objects:  75% (3/4)\u001b[K\rremote: Compressing objects: 100% (4/4)\u001b[K\rremote: Compressing objects: 100% (4/4), done.\u001b[K\n",
            "remote: Total 8 (delta 6), reused 6 (delta 4), pack-reused 0\u001b[K\n",
            "Unpacking objects:  12% (1/8)   \rUnpacking objects:  25% (2/8)   \rUnpacking objects:  37% (3/8)   \rUnpacking objects:  50% (4/8)   \rUnpacking objects:  62% (5/8)   \rUnpacking objects:  75% (6/8)   \rUnpacking objects:  87% (7/8)   \rUnpacking objects: 100% (8/8)   \rUnpacking objects: 100% (8/8), done.\n",
            "From https://github.com/ddfan/deepfillv2\n",
            "   8b844db..413f4aa  master     -> origin/master\n",
            "Updating 8b844db..413f4aa\n",
            "Fast-forward\n",
            " deepfillv2-grayscale/trainer.py | 2 \u001b[32m+\u001b[m\u001b[31m-\u001b[m\n",
            " deepfillv2-grayscale/utils.py   | 1 \u001b[32m+\u001b[m\n",
            " 2 files changed, 2 insertions(+), 1 deletion(-)\n"
          ],
          "name": "stdout"
        }
      ]
    },
    {
      "cell_type": "code",
      "metadata": {
        "id": "en_-uOO5A8e_",
        "colab": {
          "base_uri": "https://localhost:8080/"
        },
        "outputId": "6665c0ab-64fd-45f2-8e3f-1ac585042efb"
      },
      "source": [
        "%cd /content/gdrive/MyDrive/deepfillv2/deepfillv2-grayscale/\n",
        "!python train.py \\\n",
        "--baseroot \"/content/gdrive/MyDrive/data_cave/dataset\" \\\n",
        "--save_path \"/content/gdrive/MyDrive/data_cave/models\" \\\n",
        "--sample_path \"/content/gdrive/MyDrive/data_cave/sample_imgs\" \\\n",
        "--pre_train True \\\n",
        "--view_input_only 0 \\\n",
        "--checkpoint_interval 1 \\\n",
        "--multi_gpu False \\\n",
        "--gpu_ids \"0\" \\\n",
        "--epochs 100 \\\n",
        "--batch_size 8 \\\n",
        "--train_test_split 1.0 \\\n",
        "--train_val_split 0.9 \\\n",
        "--latent_channels 32 \\\n",
        "--scale_input 2.0 \\\n",
        "--lr_g 1e-4 \\\n",
        "--lambda_l1 1 \\\n",
        "--lambda_perceptual 5 \\\n",
        "--lambda_gan 0.1 \\\n",
        "--lr_decrease_epoch 10 \\\n",
        "--lr_decrease_factor 0.5 \\\n",
        "--num_workers 2 \\\n",
        "--imgsize 400 \\\n",
        "--mask_type 'known' \\\n",
        "--margin 10 \\\n",
        "--mask_num 100 \\\n",
        "--bbox_shape 30 \\\n",
        "--max_angle 4 \\\n",
        "--max_len 80 \\\n",
        "--max_width 5 \\"
      ],
      "execution_count": null,
      "outputs": [
        {
          "output_type": "stream",
          "text": [
            "/content/gdrive/MyDrive/deepfillv2/deepfillv2-grayscale\n",
            "Namespace(activ_d='lrelu', activ_g='lrelu', b1=0.5, b2=0.999, baseroot='/content/gdrive/MyDrive/data_cave/dataset', batch_size=8, bbox_shape=30, checkpoint_interval=1, cudnn_benchmark=True, epochs=100, finetune_path='', gpu_ids='0', imgsize=400, in_channels=1, init_gain=0.02, init_type='normal', lambda_gan=0.1, lambda_l1=1.0, lambda_perceptual=5.0, latent_channels=32, lr_d=0.0002, lr_decrease_epoch=10, lr_decrease_factor=0.5, lr_g=0.0001, margin=10, mask_channels=1, mask_num=100, mask_type='known', max_angle=4, max_len=80, max_width=5, multi_gpu=True, norm_d='bn', norm_g='in', num_workers=2, out_channels=1, pad='reflect', pre_train=True, sample_path='/content/gdrive/MyDrive/data_cave/sample_imgs', save_n_images=16, save_path='/content/gdrive/MyDrive/data_cave/models', scale_input=2.0, train_test_split=1.0, train_val_split=0.9, view_input_only=0, weight_decay=0)\n",
            "There are 1 GPUs used\n",
            "Batch size is changed to 8\n",
            "Number of workers is changed to 2\n",
            "The overall number of images equals to 1148\n",
            "100% 144/144 [01:24<00:00,  1.70it/s]\n",
            "/content/gdrive/MyDrive/deepfillv2/deepfillv2-grayscale/utils.py:215: UserWarning: This figure includes Axes that are not compatible with tight_layout, so results might be incorrect.\n",
            "  plt.savefig(imgname, dpi=300)\n",
            "[Epoch 1/100] [Mask L1 Loss: 0.12746] [Val Loss: 0.10109] [time_left: 8:48:11.805891\n",
            " 53% 76/144 [00:43<00:38,  1.78it/s]"
          ],
          "name": "stdout"
        }
      ]
    },
    {
      "cell_type": "code",
      "metadata": {
        "id": "vxZgFkl_EFwf"
      },
      "source": [
        ""
      ],
      "execution_count": null,
      "outputs": []
    }
  ]
}