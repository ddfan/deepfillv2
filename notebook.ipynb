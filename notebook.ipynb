{
  "nbformat": 4,
  "nbformat_minor": 0,
  "metadata": {
    "kernelspec": {
      "display_name": "Python 3",
      "language": "python",
      "name": "python3"
    },
    "language_info": {
      "codemirror_mode": {
        "name": "ipython",
        "version": 3
      },
      "file_extension": ".py",
      "mimetype": "text/x-python",
      "name": "python",
      "nbconvert_exporter": "python",
      "pygments_lexer": "ipython3",
      "version": "3.6.9"
    },
    "colab": {
      "name": "notebook.ipynb",
      "provenance": []
    },
    "accelerator": "GPU"
  },
  "cells": [
    {
      "cell_type": "code",
      "metadata": {
        "colab": {
          "base_uri": "https://localhost:8080/"
        },
        "id": "tuc27bFO15L0",
        "outputId": "639ab724-0fa7-453b-8f82-d11a2457dcb1"
      },
      "source": [
        "from google.colab import drive\n",
        "drive.mount(\"/content/gdrive\")"
      ],
      "execution_count": 1,
      "outputs": [
        {
          "output_type": "stream",
          "text": [
            "Mounted at /content/gdrive\n"
          ],
          "name": "stdout"
        }
      ]
    },
    {
      "cell_type": "code",
      "metadata": {
        "colab": {
          "base_uri": "https://localhost:8080/"
        },
        "id": "qJ7JqSFw15L3",
        "outputId": "a2d02d64-2b90-434b-ad36-7128fa3b2560"
      },
      "source": [
        "# %cd /content/gdrive/MyDrive/\n",
        "# !git clone https://<username>:<password>@github.com/ddfan/deepfillv2.git"
      ],
      "execution_count": 11,
      "outputs": [
        {
          "output_type": "stream",
          "text": [
            "/content/gdrive/MyDrive\n",
            "Cloning into 'deepfillv2'...\n",
            "remote: Enumerating objects: 341, done.\u001b[K\n",
            "remote: Counting objects: 100% (209/209), done.\u001b[K\n",
            "remote: Compressing objects: 100% (130/130), done.\u001b[K\n",
            "remote: Total 341 (delta 129), reused 117 (delta 78), pack-reused 132\u001b[K\n",
            "Receiving objects: 100% (341/341), 13.00 MiB | 15.79 MiB/s, done.\n",
            "Resolving deltas: 100% (144/144), done.\n",
            "Checking out files: 100% (124/124), done.\n"
          ],
          "name": "stdout"
        }
      ]
    },
    {
      "cell_type": "code",
      "metadata": {
        "id": "en_-uOO5A8e_",
        "outputId": "e79f4a12-7195-4a31-ae54-29112a9aeb0c",
        "colab": {
          "base_uri": "https://localhost:8080/"
        }
      },
      "source": [
        "%cd /content/gdrive/MyDrive/deepfillv2/deepfillv2-grayscale/\n",
        "!python train.py \\\n",
        "--baseroot \"/content/gdrive/MyDrive/data/dataset\" \\\n",
        "--save_path \"/content/gdrive/MyDrive/data/models\" \\\n",
        "--sample_path \"/content/gdrive/MyDrive/data/sample_imgs\" \\\n",
        "--pre_train True \\\n",
        "--view_input_only 0 \\\n",
        "--checkpoint_interval 1 \\\n",
        "--multi_gpu False \\\n",
        "--gpu_ids \"0\" \\\n",
        "--epochs 100 \\\n",
        "--batch_size 8 \\\n",
        "--train_test_split 0.9 \\\n",
        "--train_val_split 0.9 \\\n",
        "--latent_channels 64 \\\n",
        "--scale_input 2.0 \\\n",
        "--lr_g 1e-4 \\\n",
        "--lambda_l1 1 \\\n",
        "--lambda_perceptual 5 \\\n",
        "--lambda_gan 0.1 \\\n",
        "--lr_decrease_epoch 10 \\\n",
        "--lr_decrease_factor 0.5 \\\n",
        "--num_workers 2 \\\n",
        "--imgsize 400 \\\n",
        "--mask_type 'known' \\\n",
        "--margin 10 \\\n",
        "--mask_num 100 \\\n",
        "--bbox_shape 30 \\\n",
        "--max_angle 4 \\\n",
        "--max_len 80 \\\n",
        "--max_width 20 \\"
      ],
      "execution_count": null,
      "outputs": [
        {
          "output_type": "stream",
          "text": [
            "/content/gdrive/MyDrive/deepfillv2/deepfillv2-grayscale\n",
            "Namespace(activ_d='lrelu', activ_g='lrelu', b1=0.5, b2=0.999, baseroot='/content/gdrive/MyDrive/data/dataset', batch_size=8, bbox_shape=30, checkpoint_interval=1, cudnn_benchmark=True, epochs=100, finetune_path='', gpu_ids='0', imgsize=400, in_channels=1, init_gain=0.02, init_type='normal', lambda_gan=0.1, lambda_l1=1.0, lambda_perceptual=5.0, latent_channels=64, lr_d=0.0002, lr_decrease_epoch=10, lr_decrease_factor=0.5, lr_g=0.0001, margin=10, mask_channels=1, mask_num=100, mask_type='known', max_angle=4, max_len=80, max_width=20, multi_gpu=True, norm_d='bn', norm_g='in', num_workers=2, out_channels=1, pad='reflect', pre_train=True, sample_path='/content/gdrive/MyDrive/data/sample_imgs', save_n_images=16, save_path='/content/gdrive/MyDrive/data/models', scale_input=2.0, train_test_split=0.9, train_val_split=0.9, view_input_only=0, weight_decay=0)\n",
            "There are 1 GPUs used\n",
            "Batch size is changed to 8\n",
            "Number of workers is changed to 2\n",
            "The overall number of images equals to 1881\n",
            " 28% 65/236 [01:43<04:11,  1.47s/it]"
          ],
          "name": "stdout"
        }
      ]
    },
    {
      "cell_type": "code",
      "metadata": {
        "id": "vxZgFkl_EFwf"
      },
      "source": [
        ""
      ],
      "execution_count": null,
      "outputs": []
    }
  ]
}